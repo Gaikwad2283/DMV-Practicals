{
 "cells": [
  {
   "cell_type": "markdown",
   "id": "ec072740",
   "metadata": {},
   "source": [
    "# Title : Analyzing Weather Data from OpenWeatherMap API"
   ]
  },
  {
   "cell_type": "code",
   "execution_count": 3,
   "id": "1afda624",
   "metadata": {},
   "outputs": [],
   "source": [
    "import requests \n",
    "import pandas as pd \n",
    "import datetime"
   ]
  },
  {
   "cell_type": "code",
   "execution_count": 4,
   "id": "613412fd",
   "metadata": {},
   "outputs": [],
   "source": [
    "# Set your OpenWeatherMap API key\n",
    "api_key = 'fb365aa6104829b44455572365ff3b4e' "
   ]
  },
  {
   "cell_type": "code",
   "execution_count": 5,
   "id": "784ea395",
   "metadata": {},
   "outputs": [],
   "source": [
    "# https://openweathermap.org/api/one-call-3\n",
    "# how\tHow to use api call \n",
    "# Construct the API URL\n",
    "location =\"pune\"\n",
    "api_url = f\"http://api.openweathermap.org/data/2.5/forecast?q={location}&appid={api_key}\""
   ]
  },
  {
   "cell_type": "code",
   "execution_count": 6,
   "id": "09ebd88d",
   "metadata": {},
   "outputs": [
    {
     "name": "stdout",
     "output_type": "stream",
     "text": [
      "{'dt': 1731337200, 'main': {'temp': 296.66, 'feels_like': 296.29, 'temp_min': 296.66, 'temp_max': 296.66, 'pressure': 1014, 'sea_level': 1014, 'grnd_level': 941, 'humidity': 47, 'temp_kf': 0}, 'weather': [{'id': 800, 'main': 'Clear', 'description': 'clear sky', 'icon': '01n'}], 'clouds': {'all': 2}, 'wind': {'speed': 1.96, 'deg': 80, 'gust': 2.64}, 'visibility': 10000, 'pop': 0, 'sys': {'pod': 'n'}, 'dt_txt': '2024-11-11 15:00:00'}\n"
     ]
    },
    {
     "data": {
      "text/plain": [
       "'clear sky'"
      ]
     },
     "execution_count": 6,
     "metadata": {},
     "output_type": "execute_result"
    }
   ],
   "source": [
    "# Send a GET request to the API \n",
    "response = requests.get(api_url)\n",
    "# print(response)\n",
    "weather_data = response.json()\n",
    "# print(weather_data)\n",
    "# print(weather_data.keys())\n",
    "# len(weather_data['list'])\n",
    "# print(weather_data['list'])\n",
    "print(weather_data['list'][0])\n",
    "weather_data['list'][0]['weather'][0]['description']"
   ]
  },
  {
   "cell_type": "code",
   "execution_count": 7,
   "id": "3b0fb480",
   "metadata": {},
   "outputs": [],
   "source": [
    "# Getting the data from dictionary and taking into one variable \n",
    "# Extract relevant weather attributes using list comprehension\n",
    "# temperatures = [item['main']['temp'] for item in weather_data['list']] \n",
    "\n",
    "# It will extract all values (40) and putting into one variable\n",
    "timestamps = [pd.to_datetime(item['dt'], unit='s') for item in weather_data['list']]\n",
    "temperature = [item['main']['temp'] for item in weather_data['list']]\n",
    "humidity = [item['main']['humidity'] for item in weather_data['list']]\n",
    "wind_speed = [item['wind']['speed'] for item in weather_data['list']]\n",
    "weather_description = [item['weather'][0]['description'] for item in weather_data['list']]"
   ]
  },
  {
   "cell_type": "code",
   "execution_count": 8,
   "id": "0bc6853d",
   "metadata": {},
   "outputs": [
    {
     "ename": "NameError",
     "evalue": "name 'temperatures' is not defined",
     "output_type": "error",
     "traceback": [
      "\u001b[1;31m---------------------------------------------------------------------------\u001b[0m",
      "\u001b[1;31mNameError\u001b[0m                                 Traceback (most recent call last)",
      "Cell \u001b[1;32mIn[8], line 3\u001b[0m\n\u001b[0;32m      1\u001b[0m \u001b[38;5;66;03m# Create a pandas DataFrame with the extracted weather data\u001b[39;00m\n\u001b[0;32m      2\u001b[0m weather_df \u001b[38;5;241m=\u001b[39m pd\u001b[38;5;241m.\u001b[39mDataFrame({\u001b[38;5;124m'\u001b[39m\u001b[38;5;124mTimestamp\u001b[39m\u001b[38;5;124m'\u001b[39m: timestamps, \n\u001b[1;32m----> 3\u001b[0m                            \u001b[38;5;124m'\u001b[39m\u001b[38;5;124mTemperature\u001b[39m\u001b[38;5;124m'\u001b[39m: temperatures, \n\u001b[0;32m      4\u001b[0m                            \u001b[38;5;124m'\u001b[39m\u001b[38;5;124mhumidity\u001b[39m\u001b[38;5;124m'\u001b[39m: humidity, \n\u001b[0;32m      5\u001b[0m                            \u001b[38;5;124m'\u001b[39m\u001b[38;5;124mwind_speed\u001b[39m\u001b[38;5;124m'\u001b[39m:wind_speed,\n\u001b[0;32m      6\u001b[0m                            \u001b[38;5;124m'\u001b[39m\u001b[38;5;124mweather_description\u001b[39m\u001b[38;5;124m'\u001b[39m: weather_description})\n\u001b[0;32m      7\u001b[0m weather_df\n",
      "\u001b[1;31mNameError\u001b[0m: name 'temperatures' is not defined"
     ]
    }
   ],
   "source": [
    "# Create a pandas DataFrame with the extracted weather data\n",
    "weather_df = pd.DataFrame({'Timestamp': timestamps, \n",
    "                           'Temperature': temperatures, \n",
    "                           'humidity': humidity, \n",
    "                           'wind_speed':wind_speed,\n",
    "                           'weather_description': weather_description})\n",
    "weather_df"
   ]
  },
  {
   "cell_type": "code",
   "execution_count": null,
   "id": "19b1f27c",
   "metadata": {},
   "outputs": [],
   "source": [
    "# Set the Timestamp column as the DataFrame's index\n",
    "weather_df.set_index('Timestamp', inplace=True)\n",
    "max_temp = weather_df['Temperature'].max()\n",
    "print(f\"Maximum Temperature - {max_temp}\")\n",
    "min_temp = weather_df['Temperature'].min()\n",
    "print(f\"Minimum Temperature - {min_temp}\")"
   ]
  },
  {
   "cell_type": "code",
   "execution_count": null,
   "id": "6b23ca0c",
   "metadata": {},
   "outputs": [],
   "source": [
    "# Clean and preprocess the data # Handling missing values\n",
    "weather_df.fillna(0, inplace=True) # Replace missing values with 0 or appropriate value"
   ]
  },
  {
   "cell_type": "code",
   "execution_count": null,
   "id": "b67b7127",
   "metadata": {},
   "outputs": [],
   "source": [
    "# Handling inconsistent format (if applicable)\n",
    "weather_df['Temperature'] = weather_df['Temperature'].apply(lambda x: x - 273.15 if isinstance(x, float)else x)"
   ]
  },
  {
   "cell_type": "code",
   "execution_count": null,
   "id": "ad9d5970",
   "metadata": {},
   "outputs": [],
   "source": [
    "# Convert temperature from Kelvin to Celsius\n",
    "# Print the cleaned and preprocessed data print(weather_df)\n",
    "print(weather_df)"
   ]
  },
  {
   "cell_type": "code",
   "execution_count": null,
   "id": "779f06f1",
   "metadata": {},
   "outputs": [],
   "source": [
    "daily_mean_temp = weather_df['Temperature'].resample('D').mean()\n",
    "daily_mean_humidity = weather_df['humidity'].resample('D').mean()\n",
    "daily_mean_wind_speed = weather_df['wind_speed'].resample('D').mean()\n"
   ]
  },
  {
   "cell_type": "code",
   "execution_count": null,
   "id": "b63cec5e",
   "metadata": {},
   "outputs": [],
   "source": [
    "# Plot the mean daily temperature over time (Line plot)\n",
    "plt.figure(figsize=(10, 6))\n",
    "daily_mean_temp.plot(color='red', linestyle='-', marker='o')\n",
    "plt.title('Mean Daily Temperature')\n",
    "plt.xlabel('Date')\n",
    "plt.ylabel('Temperature (°C)')\n",
    "plt.grid(True)\n",
    "plt.show()"
   ]
  },
  {
   "cell_type": "code",
   "execution_count": null,
   "id": "170a9c4b",
   "metadata": {},
   "outputs": [],
   "source": [
    "# Plot the mean daily humidity over time (Bar plot)\n",
    "plt.figure(figsize=(10, 6))\n",
    "daily_mean_humidity.plot(kind='bar', color='blue')\n",
    "plt.title('Mean Daily Humidity')\n",
    "plt.xlabel('Date')\n",
    "plt.ylabel('Humidity (%)')\n",
    "plt.grid(True)\n",
    "plt.show()"
   ]
  },
  {
   "cell_type": "code",
   "execution_count": null,
   "id": "85aa0940",
   "metadata": {},
   "outputs": [],
   "source": [
    "# Plot the relationship between temperature and wind speed (Scatter plot)\n",
    "plt.figure(figsize=(10, 6))\n",
    "plt.scatter(weather_df['Temperature'], weather_df['wind_speed'], color='green')\n",
    "plt.title('Temperature vs. Wind Speed')\n",
    "plt.xlabel('Temperature (°C)')\n",
    "plt.ylabel('Wind Speed (m/s)')\n",
    "plt.grid(True)\n",
    "plt.show()"
   ]
  },
  {
   "cell_type": "code",
   "execution_count": null,
   "id": "1e510d3b",
   "metadata": {},
   "outputs": [],
   "source": [
    "# Heatmap\n",
    "import seaborn as sns\n",
    "heatmap_data = weather_df[['Temperature', 'humidity']]\n",
    "sns.heatmap(heatmap_data, annot=True, cmap='coolwarm')\n",
    "plt.title('Temperature vs Humidity Heatmap')\n",
    "plt.show()"
   ]
  },
  {
   "cell_type": "code",
   "execution_count": null,
   "id": "2697bd2f",
   "metadata": {},
   "outputs": [],
   "source": [
    "# Create a scatter plot to visualize the relationship between temperature and humidity\n",
    "plt.scatter(weather_df['Temperature'], weather_df['humidity'])\n",
    "plt.xlabel('Temperature (°C)')\n",
    "plt.ylabel('Humidity (%)')\n",
    "plt.title('Temperature vs Humidity Scatter Plot')\n",
    "plt.show()"
   ]
  },
  {
   "cell_type": "code",
   "execution_count": null,
   "id": "a2d7d30a",
   "metadata": {},
   "outputs": [],
   "source": [
    "correlation_matrix = weather_df[['Temperature', 'humidity', 'wind_speed']].corr()\n",
    "# weather_df.columns\n",
    "\n",
    "# Plot the heatmap\n",
    "plt.figure(figsize=(8, 6))\n",
    "sns.heatmap(correlation_matrix, annot=True, cmap='coolwarm', fmt='.2f', linewidths=0.5)\n",
    "plt.title('Correlation Heatmap of Weather Attributes')\n",
    "plt.show()"
   ]
  }
 ],
 "metadata": {
  "kernelspec": {
   "display_name": "Python 3 (ipykernel)",
   "language": "python",
   "name": "python3"
  },
  "language_info": {
   "codemirror_mode": {
    "name": "ipython",
    "version": 3
   },
   "file_extension": ".py",
   "mimetype": "text/x-python",
   "name": "python",
   "nbconvert_exporter": "python",
   "pygments_lexer": "ipython3",
   "version": "3.11.5"
  }
 },
 "nbformat": 4,
 "nbformat_minor": 5
}
